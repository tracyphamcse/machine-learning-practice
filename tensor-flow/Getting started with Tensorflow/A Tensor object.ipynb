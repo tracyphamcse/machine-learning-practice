{
 "cells": [
  {
   "cell_type": "code",
   "execution_count": 1,
   "metadata": {
    "collapsed": true
   },
   "outputs": [],
   "source": [
    "#import tenforflow\n",
    "import tensorflow as tf"
   ]
  },
  {
   "cell_type": "markdown",
   "metadata": {},
   "source": [
    "### What is tensor?\n",
    "\n",
    ">A tensor is a generalization of vectors and matrices to potentially higher dimensions. Internally, TensorFlow represents tensors as n-dimensional arrays of base datatypes.\n",
    "\n",
    "**tf.Tensor** is the main object type in Tensorflow\n",
    "\n",
    ">A tf.Tensor has the following properties:\n",
    "> - a data type (float32, int32, or string, for example)\n",
    "> - a shape\n",
    "\n",
    "There are also other *\"implemented\" tensor* for specific purpose: \n",
    "\n",
    "> - tf.Variable\n",
    "> - tf.constant *(non-capital \"C\")*\n",
    "> - tf.Placeholder\n",
    "> - tf.SparseTensor\n",
    "\n",
    "Except **Variable**, other type is *immutable*"
   ]
  },
  {
   "cell_type": "code",
   "execution_count": 2,
   "metadata": {
    "collapsed": false
   },
   "outputs": [
    {
     "name": "stdout",
     "output_type": "stream",
     "text": [
      "Tensor(\"Const:0\", shape=(), dtype=int16)\n",
      "Tensor(\"Const_1:0\", shape=(), dtype=int16)\n",
      "Tensor(\"Const_2:0\", shape=(), dtype=int32)\n",
      "====\n",
      "Tensor(\"Const_3:0\", shape=(), dtype=float16)\n",
      "Tensor(\"Const_4:0\", shape=(), dtype=float32)\n",
      "====\n",
      "Tensor(\"Const_5:0\", shape=(2,), dtype=complex64)\n",
      "Tensor(\"Const_6:0\", shape=(2,), dtype=float32)\n",
      "====\n",
      "Tensor(\"Const_7:0\", shape=(), dtype=string)\n",
      "====\n",
      "Expected string, got 123 of type 'int' instead.\n"
     ]
    }
   ],
   "source": [
    "'''\n",
    "    For constant, you can choose the data type, or the tf will choose it automatically based on the value\n",
    "    Data type can be passed by 'dtype=' or just put it as the second param\n",
    "'''\n",
    "\n",
    "print tf.constant(3, dtype=tf.int16)\n",
    "print tf.constant(3, tf.int16)\n",
    "print tf.constant(3)\n",
    "\n",
    "print \"====\"\n",
    "print tf.constant(0.123, tf.float16)\n",
    "print tf.constant(0.123)\n",
    "\n",
    "print \"====\"\n",
    "# using dtype=complex_\n",
    "print tf.constant((12.3, -4.85), tf.complex64)\n",
    "# without dtype=complex_, the object is treated as 2 \n",
    "print tf.constant((12.3, -4.85))\n",
    "\n",
    "\n",
    "print \"====\"\n",
    "print tf.constant(\"ABC\")\n",
    "\n",
    "print \"====\"\n",
    "try:\n",
    "    print tf.constant(123, tf.string)\n",
    "except Exception, e:\n",
    "    print e\n",
    "    \n"
   ]
  },
  {
   "cell_type": "markdown",
   "metadata": {},
   "source": [
    "### More about data type\n",
    "\n",
    "> When creating a *tf.Tensor* from a python object you may optionally specify the datatype. If you don't, TensorFlow chooses a datatype that can represent your data. TensorFlow converts Python integers to **tf.int32** and python floating point numbers to **tf.float32**. Otherwise TensorFlow uses the same rules numpy uses when converting to arrays.\n",
    "\n",
    "Besides, it is possible to cast  *tf.Tensors* from one datatype to another using **tf.cast**:"
   ]
  },
  {
   "cell_type": "code",
   "execution_count": 3,
   "metadata": {
    "collapsed": false
   },
   "outputs": [
    {
     "name": "stdout",
     "output_type": "stream",
     "text": [
      "Tensor(\"Const_8:0\", shape=(3,), dtype=int32)\n",
      "Tensor(\"Cast:0\", shape=(3,), dtype=float32)\n"
     ]
    }
   ],
   "source": [
    "node = tf.constant([1, 2, 3])\n",
    "print node\n",
    "print tf.cast(node, dtype=tf.float32)"
   ]
  },
  {
   "cell_type": "markdown",
   "metadata": {},
   "source": [
    "### Initialize data\n",
    "\n",
    "There are some method to initialize the tensor such as using zero or random value: "
   ]
  },
  {
   "cell_type": "code",
   "execution_count": 4,
   "metadata": {
    "collapsed": false
   },
   "outputs": [
    {
     "name": "stdout",
     "output_type": "stream",
     "text": [
      "Tensor(\"ones:0\", shape=(3, 4, 5), dtype=float32)\n",
      "Tensor(\"zeros:0\", shape=(10, 299, 299, 3), dtype=float32)\n",
      "Tensor(\"random_uniform:0\", shape=(10, 100), dtype=float32)\n"
     ]
    }
   ],
   "source": [
    "print tf.ones([3, 4, 5])\n",
    "print tf.zeros([10, 299, 299, 3]) \n",
    "print tf.random_uniform([10, 100])"
   ]
  },
  {
   "cell_type": "markdown",
   "metadata": {},
   "source": [
    "### Rank of tensor\n",
    "\n",
    "The rank of a *tf.Tensor* object is its number of dimensions.\n",
    "> Note that rank in TensorFlow is not the same as matrix rank in mathematics. \n",
    "\n",
    "\n",
    "| Rank | Math entity |\n",
    "|------|-------------|\n",
    "| 0    | Scalar (magnitude only) |\n",
    "| 1    | Vector (magnitude and direction) |\n",
    "| 2    | Matrix (table of numbers) |\n",
    "| 3    | 3-Tensor (cube of numbers) |\n",
    "| n    |n-Tensor (you get the idea) |"
   ]
  },
  {
   "cell_type": "code",
   "execution_count": 5,
   "metadata": {
    "collapsed": true
   },
   "outputs": [],
   "source": [
    "#Rank 0: as the above example\n"
   ]
  },
  {
   "cell_type": "code",
   "execution_count": 6,
   "metadata": {
    "collapsed": false
   },
   "outputs": [
    {
     "name": "stdout",
     "output_type": "stream",
     "text": [
      "Tensor(\"Const_9:0\", shape=(1,), dtype=string)\n",
      "Tensor(\"Const_10:0\", shape=(2,), dtype=float32)\n",
      "Tensor(\"Const_11:0\", shape=(5,), dtype=int32)\n",
      "Tensor(\"Const_12:0\", shape=(2, 2), dtype=complex64)\n"
     ]
    }
   ],
   "source": [
    "# Rank 1: Pass a list of value to create a vector\n",
    "\n",
    "print tf.constant([\"Hello\"], tf.string)\n",
    "print tf.constant([3.14159, 2.71828], tf.float32)\n",
    "print tf.constant([2, 3, 5, 7, 11], tf.int32)\n",
    "print tf.constant([(12.3, -4.85), (7.5, -6.23)], tf.complex64)\n"
   ]
  },
  {
   "cell_type": "code",
   "execution_count": 7,
   "metadata": {
    "collapsed": false
   },
   "outputs": [
    {
     "name": "stdout",
     "output_type": "stream",
     "text": [
      "Tensor(\"Const_13:0\", shape=(2, 1), dtype=int16)\n",
      "Tensor(\"Const_14:0\", shape=(4, 1), dtype=int32)\n",
      "Tensor(\"Const_15:0\", shape=(2, 2), dtype=bool)\n",
      "Tensor(\"Rank:0\", shape=(), dtype=int32)\n"
     ]
    }
   ],
   "source": [
    "# Rank n: \n",
    "\n",
    "print tf.constant([[7],[11]], tf.int16)\n",
    "print tf.constant([[4], [9], [16], [25]], tf.int32)\n",
    "print tf.constant([[False, True],[True, False]], tf.bool)\n",
    "\n",
    "# Get the rank of a tensor\n",
    "node = tf.constant([[7],[11]], tf.int16)\n",
    "print tf.rank(node)\n"
   ]
  },
  {
   "cell_type": "markdown",
   "metadata": {},
   "source": [
    "### Shape of the tensor\n",
    ">The shape of a tensor is the number of elements in each dimension. TensorFlow automatically infers shapes during graph construction. These inferred shapes might have known or unknown rank *(None)*. If the rank is known, the sizes of each dimension might be known or unknown.\n",
    "\n",
    "| Rank \t| Shape \t| Dimension number \t| Example                                 |\n",
    "|-------|-----------|-------------------|-----------------------------------------|\n",
    "| 0 \t| [] \t    | 0-D \t            | A 0-D tensor. A scalar.                 |\n",
    "| 1 \t| [D0] \t    | 1-D \t            | A 1-D tensor with shape [5].            |\n",
    "| 2 \t| [D0, D1]  | 2-D \t            | A 2-D tensor with shape [3, 4].         |\n",
    "| 3 \t| [D0, D1, D2]       | \t3-D \t| A 3-D tensor with shape [1, 4, 3].      |\n",
    "| n \t| [D0, D1, ... Dn-1] | \tn-D \t| A tensor with shape [D0, D1, ... Dn-1]. |"
   ]
  },
  {
   "cell_type": "code",
   "execution_count": 8,
   "metadata": {
    "collapsed": false
   },
   "outputs": [
    {
     "name": "stdout",
     "output_type": "stream",
     "text": [
      "Tensor(\"Shape:0\", shape=(2,), dtype=int32)\n"
     ]
    }
   ],
   "source": [
    "# Get the shape of a tensor\n",
    "node = tf.constant([[7],[11]], tf.int16)\n",
    "print tf.shape(node)"
   ]
  },
  {
   "cell_type": "code",
   "execution_count": 12,
   "metadata": {
    "collapsed": false
   },
   "outputs": [
    {
     "name": "stdout",
     "output_type": "stream",
     "text": [
      "Tensor(\"ones_4:0\", shape=(3, 4, 5), dtype=float32)\n",
      "Tensor(\"Reshape_9:0\", shape=(6, 10), dtype=float32)\n",
      "Tensor(\"Reshape_10:0\", shape=(3, 20), dtype=float32)\n",
      "Tensor(\"Reshape_11:0\", shape=(3, 2, 10), dtype=float32)\n",
      ">>> Error: \n",
      "input has 60 elements, which isn't divisible by 26\n"
     ]
    }
   ],
   "source": [
    "'''\n",
    "    Change the shape of a tensor \n",
    "\n",
    "'''\n",
    "\n",
    "node = tf.ones([3, 4, 5])\n",
    "print node\n",
    "\n",
    "# Reshape existing content into a 6x10 matrix\n",
    "matrix_1 = tf.reshape(node, [6, 10])  \n",
    "print matrix_1\n",
    "\n",
    "\n",
    "#  Reshape existing content into a 3x20 matrix. \n",
    "# -1 tells reshape to calculate the size of this dimension.\n",
    "\n",
    "matrix_2 = tf.reshape(matrix_1, [3, -1])\n",
    "print matrix_2\n",
    "\n",
    "matrix_3 = tf.reshape(matrix_1, [3, 2, -1])\n",
    "print matrix_3\n",
    "\n",
    "\n",
    "'''\n",
    "    Note that the number of elements of the reshaped Tensors has to match the original number of elements. \n",
    "    Therefore, the following example generates an error because no possible value for the last dimension will \n",
    "    match the number of elements\n",
    "'''\n",
    "try:\n",
    "    matrix_4 = tf.reshape(matrix_1, [13, 2, -1])\n",
    "except Exception, e:\n",
    "    print \">>> Error: \"\n",
    "    print e\n"
   ]
  }
 ],
 "metadata": {
  "kernelspec": {
   "display_name": "Python [Root]",
   "language": "python",
   "name": "Python [Root]"
  },
  "language_info": {
   "codemirror_mode": {
    "name": "ipython",
    "version": 2
   },
   "file_extension": ".py",
   "mimetype": "text/x-python",
   "name": "python",
   "nbconvert_exporter": "python",
   "pygments_lexer": "ipython2",
   "version": "2.7.12"
  }
 },
 "nbformat": 4,
 "nbformat_minor": 0
}
