{
 "cells": [
  {
   "cell_type": "code",
   "execution_count": 1,
   "metadata": {
    "collapsed": true
   },
   "outputs": [],
   "source": [
    "%matplotlib inline  \n",
    "import numpy as np\n",
    "import tensorflow as tf\n",
    "from sklearn.manifold import TSNE\n",
    "from matplotlib import pylab\n",
    "import pickle\n",
    "import numpy"
   ]
  },
  {
   "cell_type": "markdown",
   "metadata": {},
   "source": [
    "# <center> Word Embedding </center>\n",
    "## <center> And Mulitilingual Transformation Matrix </center>"
   ]
  },
  {
   "cell_type": "markdown",
   "metadata": {},
   "source": [
    "### 1. Word Embedding\n"
   ]
  },
  {
   "cell_type": "code",
   "execution_count": 2,
   "metadata": {
    "collapsed": false
   },
   "outputs": [
    {
     "name": "stdout",
     "output_type": "stream",
     "text": [
      "set(['all', 'locked', 'opened', 'there', 'Alice', 'hall', 'doors', 'were', 'the', 'round'])\n"
     ]
    }
   ],
   "source": [
    "sentences = [\"there were doors all round the hall\",  \n",
    "             \"the doors were locked\", \n",
    "             \"Alice opened the doors\"]\n",
    "\n",
    "vocab = set(\" \".join(sentences).split())\n",
    "vocab_size = len(vocab)\n",
    "print vocab"
   ]
  },
  {
   "cell_type": "markdown",
   "metadata": {},
   "source": [
    "> <i> In a nutshell, Word Embedding turns text into numbers... </i>"
   ]
  },
  {
   "cell_type": "code",
   "execution_count": 3,
   "metadata": {
    "collapsed": false
   },
   "outputs": [
    {
     "name": "stdout",
     "output_type": "stream",
     "text": [
      "all -> 0\n",
      "locked -> 1\n",
      "opened -> 2\n",
      "there -> 3\n",
      "Alice -> 4\n",
      "round -> 9\n",
      "doors -> 6\n",
      "were -> 7\n",
      "the -> 8\n",
      "hall -> 5\n"
     ]
    }
   ],
   "source": [
    "'''\n",
    "    Bag-of-word also map words to numbers?!\n",
    "'''\n",
    "word2int = {}\n",
    "int2word = {}\n",
    "for i, word in enumerate(vocab):\n",
    "    word2int[word] = i\n",
    "    int2word[i] = word\n",
    "    \n",
    "for word in word2int:\n",
    "    print word, \"->\", word2int[word]\n"
   ]
  },
  {
   "cell_type": "markdown",
   "metadata": {},
   "source": [
    "> <i> ... which preserves the contextual similarity of words </i>"
   ]
  },
  {
   "cell_type": "markdown",
   "metadata": {},
   "source": [
    "<img src=\"skipgram_cbow.png\" width=700 />"
   ]
  },
  {
   "cell_type": "markdown",
   "metadata": {},
   "source": [
    "### Skip-gram model"
   ]
  },
  {
   "cell_type": "markdown",
   "metadata": {},
   "source": [
    "#### Training data:"
   ]
  },
  {
   "cell_type": "code",
   "execution_count": 4,
   "metadata": {
    "collapsed": true
   },
   "outputs": [],
   "source": [
    "'''\n",
    "    Create word pairs from sentences to train the word embedding model\n",
    "'''\n",
    "\n",
    "WINDOW_SIZE = 2\n",
    "\n",
    "def get_word_pairs(sentences):\n",
    "    data = []\n",
    "    for sentence in sentences:\n",
    "        sentence = sentence.split()\n",
    "        for i, word in enumerate(sentence):\n",
    "            for nb_word in sentence[max(i - WINDOW_SIZE, 0) : min(i + WINDOW_SIZE, len(sentence)) + 1] : \n",
    "                if nb_word != word:\n",
    "                    data.append([word, nb_word])\n",
    "                    \n",
    "    return data"
   ]
  },
  {
   "cell_type": "code",
   "execution_count": 5,
   "metadata": {
    "collapsed": false
   },
   "outputs": [
    {
     "name": "stdout",
     "output_type": "stream",
     "text": [
      "[['there', 'were'], ['there', 'doors'], ['were', 'there'], ['were', 'doors'], ['were', 'all']]\n"
     ]
    }
   ],
   "source": [
    "data = get_word_pairs(sentences)\n",
    "print data [:5]"
   ]
  },
  {
   "cell_type": "code",
   "execution_count": 6,
   "metadata": {
    "collapsed": false
   },
   "outputs": [],
   "source": [
    "'''\n",
    "    Using one-hot vector to represent word\n",
    "'''\n",
    "def to_one_hot(data_point_index):\n",
    "    temp = np.zeros(vocab_size)\n",
    "    temp[data_point_index] = 1\n",
    "    return temp"
   ]
  },
  {
   "cell_type": "code",
   "execution_count": 7,
   "metadata": {
    "collapsed": false
   },
   "outputs": [
    {
     "name": "stdout",
     "output_type": "stream",
     "text": [
      "[ 0.  0.  0.  1.  0.  0.  0.  0.  0.  0.]\n",
      "[ 0.  0.  0.  0.  0.  0.  0.  1.  0.  0.]\n"
     ]
    }
   ],
   "source": [
    "'''\n",
    "    Convert all word pairs to training data\n",
    "'''\n",
    "x_train = []\n",
    "y_train = []\n",
    "for d in data:\n",
    "    x_train.append(to_one_hot(word2int[ d[0] ]))\n",
    "    y_train.append(to_one_hot(word2int[ d[1] ]))\n",
    "\n",
    "print x_train[0]\n",
    "print y_train[0]"
   ]
  },
  {
   "cell_type": "markdown",
   "metadata": {},
   "source": [
    "#### Model structure: \n",
    "<img src = \"skipgram_model.png\" width=500px/>\n",
    "\n",
    "<center> Using a simple neural network with single hidden layer </center>"
   ]
  },
  {
   "cell_type": "code",
   "execution_count": 8,
   "metadata": {
    "collapsed": true
   },
   "outputs": [],
   "source": [
    "'''\n",
    "    Define the tensorflow graph\n",
    "'''\n",
    "EMBEDDING_DIM = 10\n",
    "\n",
    "x = tf.placeholder(tf.float32, shape=(None, vocab_size))\n",
    "y_label = tf.placeholder(tf.float32, shape=(None, vocab_size))\n",
    "\n",
    "W1 = tf.Variable(tf.random_normal([vocab_size, EMBEDDING_DIM]))\n",
    "b1 = tf.Variable(tf.random_normal([EMBEDDING_DIM]))\n",
    "hidden_layer = tf.add(tf.matmul(x,W1), b1)\n",
    "\n",
    "W2 = tf.Variable(tf.random_normal([EMBEDDING_DIM, vocab_size]))\n",
    "b2 = tf.Variable(tf.random_normal([vocab_size]))\n",
    "prediction = tf.nn.softmax(tf.add( tf.matmul(hidden_layer, W2), b2))"
   ]
  },
  {
   "cell_type": "code",
   "execution_count": 9,
   "metadata": {
    "collapsed": true
   },
   "outputs": [],
   "source": [
    "'''\n",
    "    Define loss and optimizer function\n",
    "'''\n",
    "cross_entropy_loss = tf.reduce_mean(-tf.reduce_sum(y_label * tf.log(prediction), reduction_indices=[1]))\n",
    "train_step = tf.train.GradientDescentOptimizer(0.1).minimize(cross_entropy_loss)\n"
   ]
  },
  {
   "cell_type": "markdown",
   "metadata": {},
   "source": [
    "#### Train the model"
   ]
  },
  {
   "cell_type": "code",
   "execution_count": 10,
   "metadata": {
    "collapsed": false
   },
   "outputs": [
    {
     "name": "stdout",
     "output_type": "stream",
     "text": [
      "loss after 10 inters is 3.07665\n",
      "loss after 20 inters is 2.44711\n",
      "loss after 30 inters is 2.22757\n",
      "loss after 40 inters is 2.0934\n",
      "loss after 50 inters is 1.99177\n",
      "loss after 60 inters is 1.91084\n",
      "loss after 70 inters is 1.84603\n",
      "loss after 80 inters is 1.79451\n",
      "loss after 90 inters is 1.75398\n",
      "loss after 100 inters is 1.72221\n"
     ]
    }
   ],
   "source": [
    "'''\n",
    "    Train the model\n",
    "'''\n",
    "\n",
    "sess = tf.Session()\n",
    "init = tf.initialize_all_variables()\n",
    "sess.run(init)\n",
    "\n",
    "\n",
    "N_INTERS = 100\n",
    "\n",
    "for i in range(N_INTERS):\n",
    "    sess.run(train_step, feed_dict={x: x_train, y_label: y_train})\n",
    "    if (i%10 == 9):\n",
    "        print'loss after',i + 1,\"inters is\", sess.run(cross_entropy_loss, feed_dict={x: x_train, y_label: y_train})"
   ]
  },
  {
   "cell_type": "code",
   "execution_count": 11,
   "metadata": {
    "collapsed": false
   },
   "outputs": [
    {
     "name": "stdout",
     "output_type": "stream",
     "text": [
      "(10, 10)\n"
     ]
    }
   ],
   "source": [
    "'''\n",
    "    Ignore the output layer, \n",
    "    The hidden layer is the embedding layer\n",
    "'''\n",
    "vectors = sess.run(W1 + b1)\n",
    "print vectors.shape"
   ]
  },
  {
   "cell_type": "code",
   "execution_count": 12,
   "metadata": {
    "collapsed": false
   },
   "outputs": [
    {
     "name": "stdout",
     "output_type": "stream",
     "text": [
      "all\n",
      "[ 1.15325248  2.32830691  0.88257879 -1.05258369  0.2037687   0.27326888\n",
      " -0.40758994 -1.04274035 -0.30766195  0.36388719]\n",
      "\n",
      "locked\n",
      "[ 1.40618181  0.30837959  0.31995952 -1.1423595  -1.32939148  0.00591129\n",
      " -0.54765069 -0.18301542  0.29685831  2.18362355]\n",
      "\n",
      "opened\n",
      "[ 1.58108675  0.3053236   0.46392071  1.08006358  0.36515734 -0.93649858\n",
      " -1.98916733 -0.12947674  0.60217428  2.90212393]\n",
      "\n",
      "there\n",
      "[-0.43040216 -0.26353312  2.62229562 -1.01138484 -1.21997023  0.33608133\n",
      " -0.31985635 -0.357467    1.68941271  1.45645642]\n",
      "\n",
      "Alice\n",
      "[ 1.93662667  2.87596583  0.9731921  -0.63943934 -0.59984159 -0.49551082\n",
      " -0.47912347 -1.72818434 -1.03513277  1.23922145]\n",
      "\n",
      "hall\n",
      "[ 1.21532965  1.03534734  4.89960432  0.56908977  0.71194053 -1.75483024\n",
      " -1.4971776  -1.38733923 -0.86824548  1.45876241]\n",
      "\n",
      "doors\n",
      "[ 0.81412667  1.11824155  2.07449007 -0.80013084 -0.577739   -0.9600513\n",
      " -0.13478574 -0.29242915 -0.58093357  0.61940372]\n",
      "\n",
      "were\n",
      "[  9.65003908e-01  -4.69385982e-01   8.53516400e-01   5.91870248e-02\n",
      "   1.33427382e-02  -7.84140646e-01  -8.39309692e-01   8.55550170e-04\n",
      "  -8.54038596e-02   1.57803822e+00]\n",
      "\n",
      "the\n",
      "[ 0.73275548  1.67717052  0.1839937  -0.02419865 -0.38397115 -2.12890959\n",
      "  0.36051923 -1.22482443 -0.06978688  0.89594573]\n",
      "\n",
      "round\n",
      "[ 1.58484375  1.3412478   1.86337066 -0.79156125 -1.58968353 -0.83985877\n",
      "  0.68852448 -0.52957302 -1.1034447   1.18834162]\n",
      "\n"
     ]
    }
   ],
   "source": [
    "for word in vocab:\n",
    "    print word\n",
    "    print vectors[ word2int[word] ]\n",
    "    print"
   ]
  },
  {
   "cell_type": "code",
   "execution_count": 13,
   "metadata": {
    "collapsed": false
   },
   "outputs": [],
   "source": [
    "'''\n",
    "    Calculate Eclidean distance of two words\n",
    "'''\n",
    "\n",
    "def euclidean_dist(vec1, vec2):\n",
    "    return np.sqrt(np.sum((vec1-vec2)**2))\n",
    "\n",
    "def find_closest(word_index, vectors):\n",
    "    min_dist = 10000 # to act like positive infinity\n",
    "    min_index = -1\n",
    "    query_vector = vectors[word_index]\n",
    "    for index, vector in enumerate(vectors):\n",
    "        if euclidean_dist(vector, query_vector) < min_dist and not np.array_equal(vector, query_vector):\n",
    "            min_dist = euclidean_dist(vector, query_vector)\n",
    "            min_index = index\n",
    "    return min_index"
   ]
  },
  {
   "cell_type": "code",
   "execution_count": 14,
   "metadata": {
    "collapsed": false
   },
   "outputs": [
    {
     "name": "stdout",
     "output_type": "stream",
     "text": [
      "doors round\n"
     ]
    }
   ],
   "source": [
    "print 'doors', (int2word[find_closest(word2int['doors'], vectors)])"
   ]
  },
  {
   "cell_type": "code",
   "execution_count": 34,
   "metadata": {
    "collapsed": false
   },
   "outputs": [],
   "source": [
    "'''\n",
    "    Transform the embedding vector to present in 2D \n",
    "'''\n",
    "def get_2D_vector(vectors):\n",
    "    tsne = TSNE(perplexity=100, n_components=2, init='pca', n_iter=1000)\n",
    "    return tsne.fit_transform(vectors)\n",
    "def plot(embeddings, labels):\n",
    "    pylab.figure(figsize=(5,5))  # in inches\n",
    "    for i, label in enumerate(labels):\n",
    "        x, y = embeddings[i,:]\n",
    "        pylab.scatter(x, y)\n",
    "        pylab.annotate(label, xy=(x, y), xytext=(5, 2), textcoords='offset points',\n",
    "                   ha='right', va='bottom')\n",
    "    pylab.show()\n",
    "    "
   ]
  },
  {
   "cell_type": "code",
   "execution_count": 35,
   "metadata": {
    "collapsed": false
   },
   "outputs": [
    {
     "data": {
      "image/png": "[encoded data removed]",
      "text/plain": [
       "<matplotlib.figure.Figure at 0x14a19c250>"
      ]
     },
     "metadata": {},
     "output_type": "display_data"
    }
   ],
   "source": [
    "plot(get_2D_vector(vectors), vocab)"
   ]
  },
  {
   "cell_type": "markdown",
   "metadata": {},
   "source": [
    "### Speeding things up: \n",
    "- Mini-batch training\n",
    "    - Cost function is averaged over a small number of samples, from around 10-500\n",
    "    - Smooths out some of the noise in SGD\n",
    "    - Still allowing the “kick” out of local minimums of the cost function\n",
    "    - Mini-batch size is small, so speeds up the training process\n",
    "    \n",
    "    \n",
    "- Noise Contrastive Estimation (NCE)\n",
    "    - Randomly samples 2-20 possible context words to evaluates the probability\n",
    "    - Perform well and drastically speeds up the training process\n",
    "    - <i><b> tf.nn.nce_loss() </b></i>\n",
    "    \n",
    "http://adventuresinmachinelearning.com/word2vec-tutorial-tensorflow/\n",
    "\n",
    "http://ruder.io/word-embeddings-1/index.html"
   ]
  },
  {
   "cell_type": "markdown",
   "metadata": {},
   "source": [
    "### Pretrained model"
   ]
  },
  {
   "cell_type": "markdown",
   "metadata": {},
   "source": [
    "http://ahogrammer.com/2017/01/20/the-list-of-pretrained-word-embeddings/"
   ]
  },
  {
   "cell_type": "code",
   "execution_count": 17,
   "metadata": {
    "collapsed": false
   },
   "outputs": [
    {
     "name": "stdout",
     "output_type": "stream",
     "text": [
      "Emebddings shape is (100004, 64)\n"
     ]
    }
   ],
   "source": [
    "'''\n",
    "    Load pretrained model (English)\n",
    "'''\n",
    "en_vocabs, en_embeddings = pickle.load(open('polyglot-en.pkl', 'rb'))\n",
    "print(\"Emebddings shape is {}\".format(en_embeddings.shape))"
   ]
  },
  {
   "cell_type": "code",
   "execution_count": 18,
   "metadata": {
    "collapsed": false
   },
   "outputs": [],
   "source": [
    "'''\n",
    "    Get a subset of embeddings to display\n",
    "'''\n",
    "def get_sub_embedding(vocabs, embeddings, words):\n",
    "    sub_embeddings = [[]] * len(words)\n",
    "    for i in range(len(vocabs)):\n",
    "        if vocabs[i] in words:\n",
    "            sub_embeddings[words.index(vocabs[i])] = embeddings[i]\n",
    "            \n",
    "    return sub_embeddings\n"
   ]
  },
  {
   "cell_type": "code",
   "execution_count": 19,
   "metadata": {
    "collapsed": true
   },
   "outputs": [],
   "source": [
    "sub_en_vocabs = [\"two\", \"six\", \"nine\", \"ten\",\n",
    "                 \"dog\", \"cat\", \"cow\", \"bird\"]"
   ]
  },
  {
   "cell_type": "code",
   "execution_count": 21,
   "metadata": {
    "collapsed": false
   },
   "outputs": [
    {
     "data": {
      "image/png": "[encoded data removed]",
      "text/plain": [
       "<matplotlib.figure.Figure at 0x119a71f90>"
      ]
     },
     "metadata": {},
     "output_type": "display_data"
    }
   ],
   "source": [
    "sub_en_embeddings = get_sub_embedding(en_vocabs, en_embeddings, sub_en_vocabs)\n",
    "plot(get_2D_vector(sub_en_embeddings), sub_en_vocabs)"
   ]
  },
  {
   "cell_type": "markdown",
   "metadata": {},
   "source": [
    "### 2. Multilingual Transformation Matrix\n"
   ]
  },
  {
   "cell_type": "markdown",
   "metadata": {},
   "source": [
    "https://static.googleusercontent.com/media/research.google.com/vi//pubs/archive/44931.pdf\n",
    "\n",
    "We need:\n",
    "- Monolingual models of languages\n",
    "- Bilingual dictionary to learn a linear projection between the languages"
   ]
  },
  {
   "cell_type": "code",
   "execution_count": 22,
   "metadata": {
    "collapsed": false
   },
   "outputs": [
    {
     "name": "stdout",
     "output_type": "stream",
     "text": [
      "Emebddings shape is (292168, 300)\n"
     ]
    }
   ],
   "source": [
    "'''\n",
    "    Load pretrained model (Vietnamese)\n",
    "'''\n",
    "vi_vocabs, vi_embeddings = pickle.load(open('vi.pkl', 'rb'))\n",
    "print(\"Emebddings shape is {}\".format(vi_embeddings.shape))"
   ]
  },
  {
   "cell_type": "code",
   "execution_count": 23,
   "metadata": {
    "collapsed": true
   },
   "outputs": [],
   "source": [
    "sub_vi_vocabs = [\"hai\", \"sáu\", \"chín\", \"mười\",\n",
    "                 \"chó\", \"mèo\", \"bò\", \"chim\"]"
   ]
  },
  {
   "cell_type": "code",
   "execution_count": 24,
   "metadata": {
    "collapsed": false
   },
   "outputs": [
    {
     "data": {
      "image/png": "[encoded data removed]",
      "text/plain": [
       "<matplotlib.figure.Figure at 0x11a397b90>"
      ]
     },
     "metadata": {},
     "output_type": "display_data"
    }
   ],
   "source": [
    "sub_vi_embeddings = get_sub_embedding(vi_vocabs, vi_embeddings, sub_vi_vocabs)\n",
    "sub_vi_vocabs = [s.decode(\"utf-8\") for s in sub_vi_vocabs]\n",
    "plot(get_2D_vector(sub_vi_embeddings), sub_vi_vocabs)"
   ]
  },
  {
   "cell_type": "markdown",
   "metadata": {},
   "source": [
    "> <i>Transform one language's vector space into the space of another simply by utilising a linear projection with a transformation matrix W </i>"
   ]
  },
  {
   "cell_type": "code",
   "execution_count": 26,
   "metadata": {
    "collapsed": false
   },
   "outputs": [],
   "source": [
    "'''\n",
    "    Define the tensorflow graph\n",
    "'''\n",
    "bi_vocab_size = len(sub_vi_vocabs)\n",
    "en_emb_size = en_embeddings.shape[1]\n",
    "vi_emb_size = vi_embeddings.shape[1]\n",
    "\n",
    "bi_x = tf.placeholder(tf.float32, shape=(None, vi_emb_size))\n",
    "bi_y_label = tf.placeholder(tf.float32, shape=(None, en_emb_size))\n",
    "\n",
    "bi_W1 = tf.Variable(tf.random_normal([vi_emb_size, en_emb_size]))\n",
    "bi_prediction = tf.matmul(bi_x, bi_W1)"
   ]
  },
  {
   "cell_type": "code",
   "execution_count": 27,
   "metadata": {
    "collapsed": false
   },
   "outputs": [],
   "source": [
    "'''\n",
    "    Define loss and optimizer function\n",
    "'''\n",
    "\n",
    "bi_cross_entropy_loss = tf.reduce_mean((bi_prediction - bi_y_label)**2)\n",
    "bi_train_step = tf.train.GradientDescentOptimizer(0.1).minimize(bi_cross_entropy_loss)\n"
   ]
  },
  {
   "cell_type": "code",
   "execution_count": 28,
   "metadata": {
    "collapsed": false
   },
   "outputs": [
    {
     "name": "stdout",
     "output_type": "stream",
     "text": [
      "loss after 1000 inters is 0.000892327\n",
      "loss after 2000 inters is 0.000138546\n",
      "loss after 3000 inters is 2.66746e-05\n",
      "loss after 4000 inters is 5.2337e-06\n",
      "loss after 5000 inters is 1.02802e-06\n",
      "loss after 6000 inters is 2.01913e-07\n",
      "loss after 7000 inters is 3.97819e-08\n",
      "loss after 8000 inters is 8.07523e-09\n",
      "loss after 9000 inters is 1.7893e-09\n",
      "loss after 10000 inters is 5.18266e-10\n"
     ]
    }
   ],
   "source": [
    "'''\n",
    "    Train the model\n",
    "'''\n",
    "\n",
    "sess = tf.Session()\n",
    "init = tf.initialize_all_variables()\n",
    "sess.run(init)\n",
    "\n",
    "\n",
    "N_INTERS = 10000\n",
    "\n",
    "for i in range(N_INTERS):\n",
    "    temp_vi = [sub_vi_embeddings[i%bi_vocab_size]]\n",
    "    temp_en = [sub_en_embeddings[i%bi_vocab_size]]\n",
    "    sess.run(bi_train_step, feed_dict={bi_x: temp_vi, bi_y_label: temp_en})\n",
    "    if (i%1000 == 999):\n",
    "        print'loss after',i + 1,\"inters is\", sess.run(bi_cross_entropy_loss, feed_dict={bi_x: temp_vi, bi_y_label: temp_en})"
   ]
  },
  {
   "cell_type": "code",
   "execution_count": 29,
   "metadata": {
    "collapsed": false
   },
   "outputs": [],
   "source": [
    "vi_to_en_vectors = sess.run(tf.matmul(bi_x, bi_W1), feed_dict={bi_x: sub_vi_embeddings})"
   ]
  },
  {
   "cell_type": "code",
   "execution_count": 30,
   "metadata": {
    "collapsed": false
   },
   "outputs": [
    {
     "name": "stdout",
     "output_type": "stream",
     "text": [
      "two hai 0.00138547\n",
      "six sáu 0.00274734\n",
      "nine chín 6.38929e-05\n",
      "ten mười 0.00175956\n",
      "dog chó 0.000135697\n",
      "cat mèo 0.000112904\n",
      "cow bò 0.000139622\n",
      "bird chim 0.00018393\n"
     ]
    }
   ],
   "source": [
    "for i in range(bi_vocab_size):\n",
    "    print sub_en_vocabs[i], sub_vi_vocabs[i], euclidean_dist(sub_en_embeddings[i],vi_to_en_vectors[i])"
   ]
  },
  {
   "cell_type": "code",
   "execution_count": 38,
   "metadata": {
    "collapsed": false
   },
   "outputs": [
    {
     "name": "stdout",
     "output_type": "stream",
     "text": [
      "English Embeddings\n"
     ]
    },
    {
     "data": {
      "image/png": "[encoded data removed]",
      "text/plain": [
       "<matplotlib.figure.Figure at 0x14a387450>"
      ]
     },
     "metadata": {},
     "output_type": "display_data"
    },
    {
     "name": "stdout",
     "output_type": "stream",
     "text": [
      "Vietnamese Embeddings\n"
     ]
    },
    {
     "data": {
      "image/png": "[encoded data removed]",
      "text/plain": [
       "<matplotlib.figure.Figure at 0x14a677e90>"
      ]
     },
     "metadata": {},
     "output_type": "display_data"
    },
    {
     "name": "stdout",
     "output_type": "stream",
     "text": [
      "Vietnamese Embeddings in English's vector space\n"
     ]
    },
    {
     "data": {
      "image/png": "[encoded data removed]",
      "text/plain": [
       "<matplotlib.figure.Figure at 0x14a7da810>"
      ]
     },
     "metadata": {},
     "output_type": "display_data"
    }
   ],
   "source": [
    "print \"English Embeddings\"\n",
    "plot(get_2D_vector(sub_en_embeddings), sub_en_vocabs)\n",
    "\n",
    "print \"Vietnamese Embeddings\"\n",
    "plot(get_2D_vector(sub_vi_embeddings), sub_vi_vocabs)\n",
    "\n",
    "print \"Vietnamese Embeddings in English's vector space\"\n",
    "plot(get_2D_vector(vi_to_en_vectors), sub_vi_vocabs)"
   ]
  },
  {
   "cell_type": "markdown",
   "metadata": {},
   "source": [
    "### 3. Using Word Embedding in Text Classification"
   ]
  },
  {
   "cell_type": "markdown",
   "metadata": {},
   "source": [
    "Calculate the feature vector of documents:\n",
    "- Sum of word vectors\n",
    "- Average of word vectors\n",
    "- Average of word vectors with weight (such as tf-idf)"
   ]
  },
  {
   "cell_type": "markdown",
   "metadata": {},
   "source": [
    "So, for multilingual problem:\n",
    "- Training the classifier on source language (English)\n",
    "- Use the classifier to classify target language (Vietnamese) by mapping the vector of target word to source's vector space "
   ]
  }
 ],
 "metadata": {
  "anaconda-cloud": {},
  "kernelspec": {
   "display_name": "Python [Root]",
   "language": "python",
   "name": "Python [Root]"
  },
  "language_info": {
   "codemirror_mode": {
    "name": "ipython",
    "version": 2
   },
   "file_extension": ".py",
   "mimetype": "text/x-python",
   "name": "python",
   "nbconvert_exporter": "python",
   "pygments_lexer": "ipython2",
   "version": "2.7.12"
  }
 },
 "nbformat": 4,
 "nbformat_minor": 0
}
